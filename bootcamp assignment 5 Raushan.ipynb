{
 "cells": [
  {
   "cell_type": "code",
   "execution_count": null,
   "id": "cb5845ed",
   "metadata": {},
   "outputs": [],
   "source": [
    "Name:Raushan Kr. Jha\n",
    "    "
   ]
  },
  {
   "cell_type": "code",
   "execution_count": 3,
   "id": "3454b3c6",
   "metadata": {},
   "outputs": [],
   "source": [
    "import pandas as pd\n",
    "import numpy as np\n",
    "from sklearn.preprocessing import LabelEncoder\n",
    "from sklearn import tree\n",
    "from sklearn.tree import DecisionTreeClassifier\n",
    "import matplotlib.pyplot as plt"
   ]
  },
  {
   "cell_type": "code",
   "execution_count": 5,
   "id": "b2771f73",
   "metadata": {},
   "outputs": [],
   "source": [
    "path = \"C:\\\\Users\\\\user\\\\Downloads\\\\archive\\\\car_data.csv\"  # Update this to your actual file path"
   ]
  },
  {
   "cell_type": "code",
   "execution_count": 6,
   "id": "f9377ac8",
   "metadata": {},
   "outputs": [],
   "source": [
    "df = pd.read_csv(path)"
   ]
  },
  {
   "cell_type": "code",
   "execution_count": 7,
   "id": "fa3fef7c",
   "metadata": {},
   "outputs": [
    {
     "name": "stdout",
     "output_type": "stream",
     "text": [
      "Column Names:\n",
      " Index(['city_mpg', 'class', 'combination_mpg', 'cylinders', 'displacement',\n",
      "       'drive', 'fuel_type', 'highway_mpg', 'make', 'model', 'transmission',\n",
      "       'year'],\n",
      "      dtype='object')\n"
     ]
    }
   ],
   "source": [
    "print(\"Column Names:\\n\", df.columns)"
   ]
  },
  {
   "cell_type": "code",
   "execution_count": 8,
   "id": "06a7e5f6",
   "metadata": {},
   "outputs": [],
   "source": [
    "df['target'] = np.where(df['combination_mpg'] > 25, 'high', 'low')"
   ]
  },
  {
   "cell_type": "code",
   "execution_count": 10,
   "id": "8331a0e1",
   "metadata": {},
   "outputs": [
    {
     "name": "stdout",
     "output_type": "stream",
     "text": [
      "Missing Values:\n",
      " city_mpg           0\n",
      "class              0\n",
      "combination_mpg    0\n",
      "cylinders          2\n",
      "displacement       2\n",
      "drive              0\n",
      "fuel_type          0\n",
      "highway_mpg        0\n",
      "make               0\n",
      "model              0\n",
      "transmission       0\n",
      "year               0\n",
      "target             0\n",
      "dtype: int64\n"
     ]
    }
   ],
   "source": [
    "print(\"Missing Values:\\n\", df.isnull().sum())"
   ]
  },
  {
   "cell_type": "code",
   "execution_count": 11,
   "id": "29b5bf18",
   "metadata": {},
   "outputs": [],
   "source": [
    "df = df.dropna()"
   ]
  },
  {
   "cell_type": "code",
   "execution_count": 12,
   "id": "89ac1488",
   "metadata": {},
   "outputs": [],
   "source": [
    "df.replace([np.inf, -np.inf], np.nan, inplace=True)"
   ]
  },
  {
   "cell_type": "code",
   "execution_count": 13,
   "id": "407b6da9",
   "metadata": {},
   "outputs": [
    {
     "name": "stdout",
     "output_type": "stream",
     "text": [
      "Missing Values After Replacement:\n",
      " city_mpg           0\n",
      "class              0\n",
      "combination_mpg    0\n",
      "cylinders          0\n",
      "displacement       0\n",
      "drive              0\n",
      "fuel_type          0\n",
      "highway_mpg        0\n",
      "make               0\n",
      "model              0\n",
      "transmission       0\n",
      "year               0\n",
      "target             0\n",
      "dtype: int64\n"
     ]
    }
   ],
   "source": [
    "print(\"Missing Values After Replacement:\\n\", df.isnull().sum())\n"
   ]
  },
  {
   "cell_type": "code",
   "execution_count": 14,
   "id": "daf5a2dc",
   "metadata": {},
   "outputs": [],
   "source": [
    "df = df.dropna()"
   ]
  },
  {
   "cell_type": "code",
   "execution_count": 15,
   "id": "2392d6bf",
   "metadata": {},
   "outputs": [],
   "source": [
    "inputs = df.drop(['target'], axis='columns')\n",
    "target = df['target']"
   ]
  },
  {
   "cell_type": "code",
   "execution_count": 16,
   "id": "63a3e5b0",
   "metadata": {},
   "outputs": [
    {
     "name": "stdout",
     "output_type": "stream",
     "text": [
      "Inputs:\n",
      "      city_mpg                        class  combination_mpg  cylinders  \\\n",
      "0          25                  midsize car               29        4.0   \n",
      "1          26                  midsize car               30        4.0   \n",
      "2          25  small sport utility vehicle               27        4.0   \n",
      "3          26  small sport utility vehicle               29        4.0   \n",
      "4          26  small sport utility vehicle               28        4.0   \n",
      "..        ...                          ...              ...        ...   \n",
      "545        23                  compact car               27        4.0   \n",
      "546        21                  midsize car               24        6.0   \n",
      "547        21                  midsize car               24        6.0   \n",
      "548        17                  midsize car               19        8.0   \n",
      "549        17                  midsize car               19        8.0   \n",
      "\n",
      "     displacement drive fuel_type  highway_mpg   make  \\\n",
      "0             2.5   fwd       gas           36  mazda   \n",
      "1             2.5   fwd       gas           37  mazda   \n",
      "2             2.5   fwd       gas           31  mazda   \n",
      "3             2.0   fwd       gas           34  mazda   \n",
      "4             2.0   fwd       gas           32  mazda   \n",
      "..            ...   ...       ...          ...    ...   \n",
      "545           2.0   awd       gas           33    bmw   \n",
      "546           3.0   rwd       gas           29    bmw   \n",
      "547           3.0   awd       gas           29    bmw   \n",
      "548           4.4   awd       gas           24    bmw   \n",
      "549           4.4   awd       gas           24    bmw   \n",
      "\n",
      "                       model transmission  year  \n",
      "0                          6            m  2014  \n",
      "1                          6            a  2014  \n",
      "2                   cx-5 2wd            a  2014  \n",
      "3                   cx-5 2wd            m  2014  \n",
      "4                   cx-5 2wd            a  2014  \n",
      "..                       ...          ...   ...  \n",
      "545   430i xdrive gran coupe            a  2024  \n",
      "546          840i gran coupe            a  2024  \n",
      "547   840i xdrive gran coupe            a  2024  \n",
      "548  m850i xdrive gran coupe            a  2024  \n",
      "549     alpina b8 gran coupe            a  2024  \n",
      "\n",
      "[548 rows x 12 columns]\n"
     ]
    }
   ],
   "source": [
    "print(\"Inputs:\\n\", inputs)"
   ]
  },
  {
   "cell_type": "code",
   "execution_count": 17,
   "id": "501c3202",
   "metadata": {},
   "outputs": [
    {
     "name": "stdout",
     "output_type": "stream",
     "text": [
      "Target:\n",
      " 0      high\n",
      "1      high\n",
      "2      high\n",
      "3      high\n",
      "4      high\n",
      "       ... \n",
      "545    high\n",
      "546     low\n",
      "547     low\n",
      "548     low\n",
      "549     low\n",
      "Name: target, Length: 548, dtype: object\n"
     ]
    }
   ],
   "source": [
    "print(\"Target:\\n\", target)"
   ]
  },
  {
   "cell_type": "code",
   "execution_count": 18,
   "id": "ecb7a1d7",
   "metadata": {},
   "outputs": [],
   "source": [
    "le_class = LabelEncoder()\n",
    "le_drive = LabelEncoder()\n",
    "le_fuel_type = LabelEncoder()\n",
    "le_make = LabelEncoder()\n",
    "le_model = LabelEncoder()\n",
    "le_transmission = LabelEncoder()"
   ]
  },
  {
   "cell_type": "code",
   "execution_count": 19,
   "id": "29455409",
   "metadata": {},
   "outputs": [],
   "source": [
    "inputs['class_n'] = le_class.fit_transform(inputs['class'])\n",
    "inputs['drive_n'] = le_drive.fit_transform(inputs['drive'])\n",
    "inputs['fuel_type_n'] = le_fuel_type.fit_transform(inputs['fuel_type'])\n",
    "inputs['make_n'] = le_make.fit_transform(inputs['make'])\n",
    "inputs['model_n'] = le_model.fit_transform(inputs['model'])\n",
    "inputs['transmission_n'] = le_transmission.fit_transform(inputs['transmission'])"
   ]
  },
  {
   "cell_type": "code",
   "execution_count": 20,
   "id": "3881502a",
   "metadata": {},
   "outputs": [
    {
     "name": "stdout",
     "output_type": "stream",
     "text": [
      "Modified Inputs:\n",
      "      city_mpg                        class  combination_mpg  cylinders  \\\n",
      "0          25                  midsize car               29        4.0   \n",
      "1          26                  midsize car               30        4.0   \n",
      "2          25  small sport utility vehicle               27        4.0   \n",
      "3          26  small sport utility vehicle               29        4.0   \n",
      "4          26  small sport utility vehicle               28        4.0   \n",
      "..        ...                          ...              ...        ...   \n",
      "545        23                  compact car               27        4.0   \n",
      "546        21                  midsize car               24        6.0   \n",
      "547        21                  midsize car               24        6.0   \n",
      "548        17                  midsize car               19        8.0   \n",
      "549        17                  midsize car               19        8.0   \n",
      "\n",
      "     displacement drive fuel_type  highway_mpg   make  \\\n",
      "0             2.5   fwd       gas           36  mazda   \n",
      "1             2.5   fwd       gas           37  mazda   \n",
      "2             2.5   fwd       gas           31  mazda   \n",
      "3             2.0   fwd       gas           34  mazda   \n",
      "4             2.0   fwd       gas           32  mazda   \n",
      "..            ...   ...       ...          ...    ...   \n",
      "545           2.0   awd       gas           33    bmw   \n",
      "546           3.0   rwd       gas           29    bmw   \n",
      "547           3.0   awd       gas           29    bmw   \n",
      "548           4.4   awd       gas           24    bmw   \n",
      "549           4.4   awd       gas           24    bmw   \n",
      "\n",
      "                       model transmission  year  class_n  drive_n  \\\n",
      "0                          6            m  2014        2        2   \n",
      "1                          6            a  2014        2        2   \n",
      "2                   cx-5 2wd            a  2014        7        2   \n",
      "3                   cx-5 2wd            m  2014        7        2   \n",
      "4                   cx-5 2wd            a  2014        7        2   \n",
      "..                       ...          ...   ...      ...      ...   \n",
      "545   430i xdrive gran coupe            a  2024        0        1   \n",
      "546          840i gran coupe            a  2024        2        3   \n",
      "547   840i xdrive gran coupe            a  2024        2        1   \n",
      "548  m850i xdrive gran coupe            a  2024        2        1   \n",
      "549     alpina b8 gran coupe            a  2024        2        1   \n",
      "\n",
      "     fuel_type_n  make_n  model_n  transmission_n  \n",
      "0              1      19       15               1  \n",
      "1              1      19       15               0  \n",
      "2              1      19       74               0  \n",
      "3              1      19       74               1  \n",
      "4              1      19       74               0  \n",
      "..           ...     ...      ...             ...  \n",
      "545            1       4        8               0  \n",
      "546            1       4       28               0  \n",
      "547            1       4       31               0  \n",
      "548            1       4      157               0  \n",
      "549            1       4       42               0  \n",
      "\n",
      "[548 rows x 18 columns]\n"
     ]
    }
   ],
   "source": [
    "print(\"Modified Inputs:\\n\", inputs)"
   ]
  },
  {
   "cell_type": "code",
   "execution_count": 21,
   "id": "1c7f5b10",
   "metadata": {},
   "outputs": [
    {
     "name": "stdout",
     "output_type": "stream",
     "text": [
      "Encoded Inputs:\n",
      "      city_mpg  combination_mpg  cylinders  displacement  highway_mpg  year  \\\n",
      "0          25               29        4.0           2.5           36  2014   \n",
      "1          26               30        4.0           2.5           37  2014   \n",
      "2          25               27        4.0           2.5           31  2014   \n",
      "3          26               29        4.0           2.0           34  2014   \n",
      "4          26               28        4.0           2.0           32  2014   \n",
      "..        ...              ...        ...           ...          ...   ...   \n",
      "545        23               27        4.0           2.0           33  2024   \n",
      "546        21               24        6.0           3.0           29  2024   \n",
      "547        21               24        6.0           3.0           29  2024   \n",
      "548        17               19        8.0           4.4           24  2024   \n",
      "549        17               19        8.0           4.4           24  2024   \n",
      "\n",
      "     class_n  drive_n  fuel_type_n  make_n  model_n  transmission_n  \n",
      "0          2        2            1      19       15               1  \n",
      "1          2        2            1      19       15               0  \n",
      "2          7        2            1      19       74               0  \n",
      "3          7        2            1      19       74               1  \n",
      "4          7        2            1      19       74               0  \n",
      "..       ...      ...          ...     ...      ...             ...  \n",
      "545        0        1            1       4        8               0  \n",
      "546        2        3            1       4       28               0  \n",
      "547        2        1            1       4       31               0  \n",
      "548        2        1            1       4      157               0  \n",
      "549        2        1            1       4       42               0  \n",
      "\n",
      "[548 rows x 12 columns]\n"
     ]
    }
   ],
   "source": [
    "inputs_n = inputs.drop(['class', 'drive', 'fuel_type', 'make', 'model', 'transmission'], axis='columns')\n",
    "print(\"Encoded Inputs:\\n\", inputs_n)"
   ]
  },
  {
   "cell_type": "code",
   "execution_count": 22,
   "id": "3decef90",
   "metadata": {},
   "outputs": [],
   "source": [
    "model = tree.DecisionTreeClassifier()"
   ]
  },
  {
   "cell_type": "code",
   "execution_count": 23,
   "id": "4bee7f15",
   "metadata": {},
   "outputs": [
    {
     "data": {
      "text/plain": [
       "DecisionTreeClassifier()"
      ]
     },
     "execution_count": 23,
     "metadata": {},
     "output_type": "execute_result"
    }
   ],
   "source": [
    "model.fit(inputs_n, target)"
   ]
  },
  {
   "cell_type": "code",
   "execution_count": 24,
   "id": "44aff29b",
   "metadata": {},
   "outputs": [],
   "source": [
    "new_data = pd.DataFrame({\n",
    "    'city_mpg': [30],\n",
    "    'cylinders': [4],\n",
    "    'displacement': [140],\n",
    "    'highway_mpg': [38],\n",
    "    'year': [2020],\n",
    "    'combination_mpg': [35],\n",
    "    'class_n': [1],  # Example encoded value for 'class'\n",
    "    'drive_n': [0],  # Example encoded value for 'drive'\n",
    "    'fuel_type_n': [0],  # Example encoded value for 'fuel_type'\n",
    "    'make_n': [3],  # Example encoded value for 'make'\n",
    "    'model_n': [2],  # Example encoded value for 'model'\n",
    "    'transmission_n': [1],  # Example encoded value for 'transmission'\n",
    "})"
   ]
  },
  {
   "cell_type": "code",
   "execution_count": 25,
   "id": "8828ab74",
   "metadata": {},
   "outputs": [
    {
     "name": "stdout",
     "output_type": "stream",
     "text": [
      "Predictions for new data: ['low']\n"
     ]
    },
    {
     "name": "stderr",
     "output_type": "stream",
     "text": [
      "C:\\Users\\user\\anaconda3\\lib\\site-packages\\sklearn\\base.py:493: FutureWarning: The feature names should match those that were passed during fit. Starting version 1.2, an error will be raised.\n",
      "Feature names must be in the same order as they were in fit.\n",
      "\n",
      "  warnings.warn(message, FutureWarning)\n"
     ]
    }
   ],
   "source": [
    "predictions = model.predict(new_data)\n",
    "print(\"Predictions for new data:\", predictions)\n"
   ]
  },
  {
   "cell_type": "code",
   "execution_count": 26,
   "id": "c872314c",
   "metadata": {},
   "outputs": [
    {
     "data": {
      "image/png": "[encoded data removed]",
      "text/plain": [
       "<Figure size 1000x800 with 1 Axes>"
      ]
     },
     "metadata": {},
     "output_type": "display_data"
    }
   ],
   "source": [
    "plt.figure(figsize=(10, 8))\n",
    "tree.plot_tree(model, filled=True, feature_names=inputs_n.columns, class_names=target.unique())\n",
    "plt.show()"
   ]
  },
  {
   "cell_type": "code",
   "execution_count": null,
   "id": "67bd82fc",
   "metadata": {},
   "outputs": [],
   "source": []
  }
 ],
 "metadata": {
  "kernelspec": {
   "display_name": "Python 3 (ipykernel)",
   "language": "python",
   "name": "python3"
  },
  "language_info": {
   "codemirror_mode": {
    "name": "ipython",
    "version": 3
   },
   "file_extension": ".py",
   "mimetype": "text/x-python",
   "name": "python",
   "nbconvert_exporter": "python",
   "pygments_lexer": "ipython3",
   "version": "3.9.13"
  }
 },
 "nbformat": 4,
 "nbformat_minor": 5
}
